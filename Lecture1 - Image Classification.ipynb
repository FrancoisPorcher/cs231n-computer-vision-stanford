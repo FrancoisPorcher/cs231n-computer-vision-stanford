{
 "cells": [
  {
   "attachments": {},
   "cell_type": "markdown",
   "metadata": {},
   "source": [
    "# Image classification with the Fashion MNIST dataset"
   ]
  },
  {
   "cell_type": "code",
   "execution_count": 5,
   "metadata": {},
   "outputs": [],
   "source": [
    "import numpy as np\n",
    "import pandas as pd\n",
    "import sklearn\n",
    "# import matplotlib.pyplot as plt\n",
    "from sklearn.datasets import fetch_openml"
   ]
  },
  {
   "attachments": {},
   "cell_type": "markdown",
   "metadata": {},
   "source": [
    "# Load dataset"
   ]
  },
  {
   "cell_type": "code",
   "execution_count": 6,
   "metadata": {},
   "outputs": [],
   "source": [
    "mnist = fetch_openml('mnist_784')\n"
   ]
  },
  {
   "cell_type": "code",
   "execution_count": null,
   "metadata": {},
   "outputs": [],
   "source": [
    "\n",
    "# Split the dataset into training and test sets\n",
    "train_data = mnist['data'][:60000]\n",
    "train_labels = mnist['target'][:60000]\n",
    "test_data = mnist['data'][60000:]\n",
    "test_labels = mnist['target'][60000:]\n",
    "\n",
    "# Train a k-NN classifier on the training data\n",
    "knn = KNeighborsClassifier(n_neighbors=3)\n",
    "knn.fit(train_data, train_labels)\n",
    "\n",
    "# Make predictions on the test data\n",
    "predictions = knn.predict(test_data)\n",
    "\n",
    "# Compute the accuracy of the classifier\n",
    "accuracy = accuracy_score(test_labels, predictions)\n",
    "print('Accuracy:', accuracy)\n"
   ]
  }
 ],
 "metadata": {
  "kernelspec": {
   "display_name": "cs231n",
   "language": "python",
   "name": "python3"
  },
  "language_info": {
   "codemirror_mode": {
    "name": "ipython",
    "version": 3
   },
   "file_extension": ".py",
   "mimetype": "text/x-python",
   "name": "python",
   "nbconvert_exporter": "python",
   "pygments_lexer": "ipython3",
   "version": "3.9.16"
  },
  "orig_nbformat": 4,
  "vscode": {
   "interpreter": {
    "hash": "a202f0e2d23ec85e9a3018a797128d8679fa43f083e20ceaaae0e52c113bf4b8"
   }
  }
 },
 "nbformat": 4,
 "nbformat_minor": 2
}
